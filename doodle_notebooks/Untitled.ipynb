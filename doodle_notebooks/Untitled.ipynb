{
 "cells": [
  {
   "cell_type": "markdown",
   "metadata": {},
   "source": [
    "## ## XGBoost Dask scaling\n",
    "\n",
    "Distributed training using Dask and XGBoost\n",
    "[Tutorial link](http://matthewrocklin.com/blog/work/2017/03/28/dask-xgboost)"
   ]
  },
  {
   "cell_type": "code",
   "execution_count": 7,
   "metadata": {},
   "outputs": [
    {
     "name": "stdout",
     "output_type": "stream",
     "text": [
      "Requirement already satisfied: dask_ml in /opt/conda/envs/rapids/lib/python3.7/site-packages (1.5.0)\n",
      "Requirement already satisfied: dask_xgboost in /opt/conda/envs/rapids/lib/python3.7/site-packages (0.1.5)\n",
      "Collecting s3fs\n",
      "  Downloading s3fs-0.4.2-py3-none-any.whl (19 kB)\n",
      "Requirement already satisfied: numba in /opt/conda/envs/rapids/lib/python3.7/site-packages (from dask_ml) (0.49.0)\n",
      "Requirement already satisfied: scikit-learn>=0.23 in /opt/conda/envs/rapids/lib/python3.7/site-packages (from dask_ml) (0.23.1)\n",
      "Requirement already satisfied: dask-glm>=0.2.0 in /opt/conda/envs/rapids/lib/python3.7/site-packages (from dask_ml) (0.2.0)\n",
      "Requirement already satisfied: pandas>=0.23.4 in /opt/conda/envs/rapids/lib/python3.7/site-packages (from dask_ml) (0.25.3)\n",
      "Requirement already satisfied: numpy>=1.17.3 in /opt/conda/envs/rapids/lib/python3.7/site-packages (from dask_ml) (1.18.1)\n",
      "Requirement already satisfied: multipledispatch>=0.4.9 in /opt/conda/envs/rapids/lib/python3.7/site-packages (from dask_ml) (0.6.0)\n",
      "Requirement already satisfied: scipy in /opt/conda/envs/rapids/lib/python3.7/site-packages (from dask_ml) (1.4.1)\n",
      "Requirement already satisfied: packaging in /opt/conda/envs/rapids/lib/python3.7/site-packages (from dask_ml) (20.1)\n",
      "Requirement already satisfied: distributed>=2.4.0 in /opt/conda/envs/rapids/lib/python3.7/site-packages (from dask_ml) (2.17.0)\n",
      "Requirement already satisfied: dask[array,dataframe]>=2.4.0 in /opt/conda/envs/rapids/lib/python3.7/site-packages (from dask_ml) (2.17.2)\n",
      "Requirement already satisfied: xgboost in /opt/conda/envs/rapids/lib/python3.7/site-packages (from dask_xgboost) (1.1.0)\n",
      "Requirement already satisfied: fsspec>=0.6.0 in /opt/conda/envs/rapids/lib/python3.7/site-packages (from s3fs) (0.6.3)\n",
      "Collecting botocore>=1.12.91\n",
      "  Downloading botocore-1.17.20-py2.py3-none-any.whl (6.3 MB)\n",
      "\u001b[K     |████████████████████████████████| 6.3 MB 4.0 MB/s eta 0:00:01\n",
      "\u001b[?25hRequirement already satisfied: llvmlite<=0.33.0.dev0,>=0.31.0.dev0 in /opt/conda/envs/rapids/lib/python3.7/site-packages (from numba->dask_ml) (0.32.0)\n",
      "Requirement already satisfied: setuptools in /opt/conda/envs/rapids/lib/python3.7/site-packages (from numba->dask_ml) (47.1.1.post20200529)\n",
      "Requirement already satisfied: threadpoolctl>=2.0.0 in /opt/conda/envs/rapids/lib/python3.7/site-packages (from scikit-learn>=0.23->dask_ml) (2.1.0)\n",
      "Requirement already satisfied: joblib>=0.11 in /opt/conda/envs/rapids/lib/python3.7/site-packages (from scikit-learn>=0.23->dask_ml) (0.14.1)\n",
      "Requirement already satisfied: cloudpickle>=0.2.2 in /opt/conda/envs/rapids/lib/python3.7/site-packages (from dask-glm>=0.2.0->dask_ml) (1.3.0)\n",
      "Requirement already satisfied: python-dateutil>=2.6.1 in /opt/conda/envs/rapids/lib/python3.7/site-packages (from pandas>=0.23.4->dask_ml) (2.8.1)\n",
      "Requirement already satisfied: pytz>=2017.2 in /opt/conda/envs/rapids/lib/python3.7/site-packages (from pandas>=0.23.4->dask_ml) (2019.3)\n",
      "Requirement already satisfied: six in /opt/conda/envs/rapids/lib/python3.7/site-packages (from multipledispatch>=0.4.9->dask_ml) (1.14.0)\n",
      "Requirement already satisfied: pyparsing>=2.0.2 in /opt/conda/envs/rapids/lib/python3.7/site-packages (from packaging->dask_ml) (2.4.6)\n",
      "Requirement already satisfied: psutil>=5.0 in /opt/conda/envs/rapids/lib/python3.7/site-packages (from distributed>=2.4.0->dask_ml) (5.7.0)\n",
      "Requirement already satisfied: sortedcontainers!=2.0.0,!=2.0.1 in /opt/conda/envs/rapids/lib/python3.7/site-packages (from distributed>=2.4.0->dask_ml) (2.1.0)\n",
      "Requirement already satisfied: msgpack>=0.6.0 in /opt/conda/envs/rapids/lib/python3.7/site-packages (from distributed>=2.4.0->dask_ml) (1.0.0)\n",
      "Requirement already satisfied: toolz>=0.8.2 in /opt/conda/envs/rapids/lib/python3.7/site-packages (from distributed>=2.4.0->dask_ml) (0.10.0)\n",
      "Requirement already satisfied: zict>=0.1.3 in /opt/conda/envs/rapids/lib/python3.7/site-packages (from distributed>=2.4.0->dask_ml) (2.0.0)\n",
      "Requirement already satisfied: click>=6.6 in /opt/conda/envs/rapids/lib/python3.7/site-packages (from distributed>=2.4.0->dask_ml) (7.1.1)\n",
      "Requirement already satisfied: tblib>=1.6.0 in /opt/conda/envs/rapids/lib/python3.7/site-packages (from distributed>=2.4.0->dask_ml) (1.6.0)\n",
      "Requirement already satisfied: tornado>=5; python_version < \"3.8\" in /opt/conda/envs/rapids/lib/python3.7/site-packages (from distributed>=2.4.0->dask_ml) (6.0.4)\n",
      "Requirement already satisfied: pyyaml in /opt/conda/envs/rapids/lib/python3.7/site-packages (from distributed>=2.4.0->dask_ml) (5.3.1)\n",
      "Requirement already satisfied: partd>=0.3.10; extra == \"dataframe\" in /opt/conda/envs/rapids/lib/python3.7/site-packages (from dask[array,dataframe]>=2.4.0->dask_ml) (1.1.0)\n",
      "Requirement already satisfied: urllib3<1.26,>=1.20; python_version != \"3.4\" in /opt/conda/envs/rapids/lib/python3.7/site-packages (from botocore>=1.12.91->s3fs) (1.25.7)\n",
      "Collecting docutils<0.16,>=0.10\n",
      "  Downloading docutils-0.15.2-py3-none-any.whl (547 kB)\n",
      "\u001b[K     |████████████████████████████████| 547 kB 5.7 MB/s eta 0:00:01\n",
      "\u001b[?25hCollecting jmespath<1.0.0,>=0.7.1\n",
      "  Downloading jmespath-0.10.0-py2.py3-none-any.whl (24 kB)\n",
      "Requirement already satisfied: heapdict in /opt/conda/envs/rapids/lib/python3.7/site-packages (from zict>=0.1.3->distributed>=2.4.0->dask_ml) (1.0.1)\n",
      "Requirement already satisfied: locket in /opt/conda/envs/rapids/lib/python3.7/site-packages (from partd>=0.3.10; extra == \"dataframe\"->dask[array,dataframe]>=2.4.0->dask_ml) (0.2.0)\n",
      "Installing collected packages: docutils, jmespath, botocore, s3fs\n",
      "Successfully installed botocore-1.17.20 docutils-0.15.2 jmespath-0.10.0 s3fs-0.4.2\n"
     ]
    }
   ],
   "source": [
    "!pip install dask_ml dask_xgboost s3fs"
   ]
  },
  {
   "cell_type": "code",
   "execution_count": 8,
   "metadata": {},
   "outputs": [
    {
     "name": "stderr",
     "output_type": "stream",
     "text": [
      "/opt/conda/envs/rapids/lib/python3.7/site-packages/distributed/node.py:155: UserWarning: Port 8787 is already in use.\n",
      "Perhaps you already have a cluster running?\n",
      "Hosting the HTTP server on port 37013 instead\n",
      "  http_address[\"port\"], self.http_server.port\n"
     ]
    },
    {
     "data": {
      "text/html": [
       "<table style=\"border: 2px solid white;\">\n",
       "<tr>\n",
       "<td style=\"vertical-align: top; border: 0px solid white\">\n",
       "<h3 style=\"text-align: left;\">Client</h3>\n",
       "<ul style=\"text-align: left; list-style: none; margin: 0; padding: 0;\">\n",
       "  <li><b>Scheduler: </b>tcp://127.0.0.1:38513</li>\n",
       "  <li><b>Dashboard: </b><a href='http://127.0.0.1:37013/status' target='_blank'>http://127.0.0.1:37013/status</a></li>\n",
       "</ul>\n",
       "</td>\n",
       "<td style=\"vertical-align: top; border: 0px solid white\">\n",
       "<h3 style=\"text-align: left;\">Cluster</h3>\n",
       "<ul style=\"text-align: left; list-style:none; margin: 0; padding: 0;\">\n",
       "  <li><b>Workers: </b>4</li>\n",
       "  <li><b>Cores: </b>4</li>\n",
       "  <li><b>Memory: </b>540.94 GB</li>\n",
       "</ul>\n",
       "</td>\n",
       "</tr>\n",
       "</table>"
      ],
      "text/plain": [
       "<Client: 'tcp://127.0.0.1:38513' processes=4 threads=4, memory=540.94 GB>"
      ]
     },
     "execution_count": 8,
     "metadata": {},
     "output_type": "execute_result"
    }
   ],
   "source": [
    "from dask.distributed import Client\n",
    "client = Client(n_workers=4, threads_per_worker=1)\n",
    "client"
   ]
  },
  {
   "cell_type": "code",
   "execution_count": 9,
   "metadata": {},
   "outputs": [],
   "source": [
    "import dask.dataframe as dd\n",
    "import dask\n",
    "# Subset of the columns to use\n",
    "cols = ['Year', 'Month', 'DayOfWeek', 'Distance',\n",
    "        'DepDelay', 'CRSDepTime', 'UniqueCarrier', 'Origin', 'Dest']\n",
    "\n",
    "# Create the dataframe\n",
    "df = dd.read_csv('s3://dask-data/airline-data/20*.csv', usecols=cols, storage_options={'anon': True})"
   ]
  },
  {
   "cell_type": "code",
   "execution_count": 10,
   "metadata": {},
   "outputs": [],
   "source": [
    "df = df.sample(frac=0.2) # XGBoost requires a bit of RAM, we need a larger cluster"
   ]
  },
  {
   "cell_type": "code",
   "execution_count": 12,
   "metadata": {},
   "outputs": [
    {
     "ename": "NameError",
     "evalue": "name 'dask' is not defined",
     "output_type": "error",
     "traceback": [
      "\u001b[0;31m---------------------------------------------------------------------------\u001b[0m",
      "\u001b[0;31mNameError\u001b[0m                                 Traceback (most recent call last)",
      "\u001b[0;32m<ipython-input-12-e8e9599526d4>\u001b[0m in \u001b[0;36m<module>\u001b[0;34m\u001b[0m\n\u001b[1;32m      4\u001b[0m \u001b[0mdf\u001b[0m\u001b[0;34m[\u001b[0m\u001b[0;34m'CRSDepTime'\u001b[0m\u001b[0;34m]\u001b[0m \u001b[0;34m=\u001b[0m \u001b[0mdf\u001b[0m\u001b[0;34m[\u001b[0m\u001b[0;34m'CRSDepTime'\u001b[0m\u001b[0;34m]\u001b[0m\u001b[0;34m.\u001b[0m\u001b[0mclip\u001b[0m\u001b[0;34m(\u001b[0m\u001b[0mupper\u001b[0m\u001b[0;34m=\u001b[0m\u001b[0;36m2399\u001b[0m\u001b[0;34m)\u001b[0m\u001b[0;34m\u001b[0m\u001b[0;34m\u001b[0m\u001b[0m\n\u001b[1;32m      5\u001b[0m \u001b[0;34m\u001b[0m\u001b[0m\n\u001b[0;32m----> 6\u001b[0;31m \u001b[0mdf\u001b[0m\u001b[0;34m,\u001b[0m \u001b[0mis_delayed\u001b[0m \u001b[0;34m=\u001b[0m \u001b[0mdask\u001b[0m\u001b[0;34m.\u001b[0m\u001b[0mpersist\u001b[0m\u001b[0;34m(\u001b[0m\u001b[0mdf\u001b[0m\u001b[0;34m,\u001b[0m \u001b[0mis_delayed\u001b[0m\u001b[0;34m)\u001b[0m  \u001b[0;31m# start work in the background\u001b[0m\u001b[0;34m\u001b[0m\u001b[0;34m\u001b[0m\u001b[0m\n\u001b[0m",
      "\u001b[0;31mNameError\u001b[0m: name 'dask' is not defined"
     ]
    }
   ],
   "source": [
    "is_delayed = (df.DepDelay.fillna(16) > 15)  # column of labels\n",
    "del df['DepDelay']  # Remove delay information from training dataframe\n",
    "\n",
    "df['CRSDepTime'] = df['CRSDepTime'].clip(upper=2399)\n",
    "\n",
    "df, is_delayed = dask.persist(df, is_delayed)  # start work in the background"
   ]
  },
  {
   "cell_type": "code",
   "execution_count": null,
   "metadata": {},
   "outputs": [],
   "source": []
  }
 ],
 "metadata": {
  "kernelspec": {
   "display_name": "Python 3",
   "language": "python",
   "name": "python3"
  },
  "language_info": {
   "codemirror_mode": {
    "name": "ipython",
    "version": 3
   },
   "file_extension": ".py",
   "mimetype": "text/x-python",
   "name": "python",
   "nbconvert_exporter": "python",
   "pygments_lexer": "ipython3",
   "version": "3.7.6"
  }
 },
 "nbformat": 4,
 "nbformat_minor": 4
}
