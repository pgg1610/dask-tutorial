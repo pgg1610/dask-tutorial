{
 "cells": [
  {
   "cell_type": "markdown",
   "metadata": {},
   "source": [
    "## ## Dask delayed implementation"
   ]
  },
  {
   "cell_type": "code",
   "execution_count": 1,
   "metadata": {},
   "outputs": [],
   "source": [
    "import time as time # to time the program\n",
    "from dask import delayed # to allow parallel computation"
   ]
  },
  {
   "cell_type": "code",
   "execution_count": 2,
   "metadata": {},
   "outputs": [],
   "source": [
    "# Define a function normally\n",
    "def my_function(x):\n",
    "    # mimic a slow function with sleep for 1 seconds\n",
    "    time.sleep(1)\n",
    "    return x*2"
   ]
  },
  {
   "cell_type": "code",
   "execution_count": 3,
   "metadata": {},
   "outputs": [
    {
     "name": "stdout",
     "output_type": "stream",
     "text": [
      "Object type of total <class 'dask.delayed.Delayed'>\n",
      "Process took 1.03 seconds\n",
      "Final result  12\n"
     ]
    }
   ],
   "source": [
    "# Record time at start of run\n",
    "start = time.time()\n",
    "\n",
    "# Run function in parallel when calling three times\n",
    "# Syntax of my_function(x) is replaced with delayed(my_function)(x)\n",
    "a = delayed(my_function)(1)\n",
    "b = delayed(my_function)(2)\n",
    "c = delayed(my_function)(3)\n",
    "\n",
    "# Total will sum results. But at this point we generate a 'delayed' object   \n",
    "total = a + b + c\n",
    "\n",
    "# Show object type of total\n",
    "print ('Object type of total', type(total))\n",
    "\n",
    "# To get the result we must use 'compute':\n",
    "final_result = total.compute()\n",
    "\n",
    "# Calculate time taken and print results\n",
    "time_taken = time.time()-start\n",
    "print ('Process took %0.2f seconds' %time_taken)\n",
    "print('Final result ',final_result)"
   ]
  },
  {
   "cell_type": "code",
   "execution_count": 5,
   "metadata": {},
   "outputs": [
    {
     "name": "stdout",
     "output_type": "stream",
     "text": [
      "Process took 1.01 seconds\n",
      "Final result  90\n"
     ]
    }
   ],
   "source": [
    "start = time.time()\n",
    "# Example loop will add results to a list and calculate total\n",
    "results = []\n",
    "for i in range(10):\n",
    "    # Call normal function with dask delayed decorator\n",
    "    x = delayed(my_function)(i)\n",
    "    results.append(x)\n",
    "\n",
    "total = sum(results)\n",
    "final_result = total.compute()\n",
    "\n",
    "# Calculate time taken and print results\n",
    "time_taken = time.time()-start\n",
    "print ('Process took %0.2f seconds' %time_taken)\n",
    "print('Final result ',final_result)"
   ]
  },
  {
   "cell_type": "code",
   "execution_count": null,
   "metadata": {},
   "outputs": [],
   "source": []
  }
 ],
 "metadata": {
  "kernelspec": {
   "display_name": "Python 3",
   "language": "python",
   "name": "python3"
  },
  "language_info": {
   "codemirror_mode": {
    "name": "ipython",
    "version": 3
   },
   "file_extension": ".py",
   "mimetype": "text/x-python",
   "name": "python",
   "nbconvert_exporter": "python",
   "pygments_lexer": "ipython3",
   "version": "3.7.6"
  }
 },
 "nbformat": 4,
 "nbformat_minor": 4
}
