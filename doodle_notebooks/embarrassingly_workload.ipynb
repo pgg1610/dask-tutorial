{
 "cells": [
  {
   "cell_type": "markdown",
   "metadata": {},
   "source": [
    "## ## Parallel workloads \n",
    "\n",
    "* [Parallel workload tutorial](https://examples.dask.org/applications/embarrassingly-parallel.html) "
   ]
  },
  {
   "cell_type": "code",
   "execution_count": 1,
   "metadata": {},
   "outputs": [
    {
     "data": {
      "text/html": [
       "<table style=\"border: 2px solid white;\">\n",
       "<tr>\n",
       "<td style=\"vertical-align: top; border: 0px solid white\">\n",
       "<h3 style=\"text-align: left;\">Client</h3>\n",
       "<ul style=\"text-align: left; list-style: none; margin: 0; padding: 0;\">\n",
       "  <li><b>Scheduler: </b>tcp://127.0.0.1:37781</li>\n",
       "  <li><b>Dashboard: </b><a href='http://127.0.0.1:8787/status' target='_blank'>http://127.0.0.1:8787/status</a></li>\n",
       "</ul>\n",
       "</td>\n",
       "<td style=\"vertical-align: top; border: 0px solid white\">\n",
       "<h3 style=\"text-align: left;\">Cluster</h3>\n",
       "<ul style=\"text-align: left; list-style:none; margin: 0; padding: 0;\">\n",
       "  <li><b>Workers: </b>1</li>\n",
       "  <li><b>Cores: </b>80</li>\n",
       "  <li><b>Memory: </b>540.94 GB</li>\n",
       "</ul>\n",
       "</td>\n",
       "</tr>\n",
       "</table>"
      ],
      "text/plain": [
       "<Client: 'tcp://127.0.0.1:37781' processes=1 threads=80, memory=540.94 GB>"
      ]
     },
     "execution_count": 1,
     "metadata": {},
     "output_type": "execute_result"
    }
   ],
   "source": [
    "from dask.distributed import Client, progress\n",
    "client = Client(n_workers=1)\n",
    "client"
   ]
  },
  {
   "cell_type": "code",
   "execution_count": 2,
   "metadata": {},
   "outputs": [],
   "source": [
    "import time\n",
    "import random\n",
    "\n",
    "def costly_simulation(list_param):\n",
    "    time.sleep(random.random())\n",
    "    return sum(list_param)"
   ]
  },
  {
   "cell_type": "code",
   "execution_count": 3,
   "metadata": {},
   "outputs": [
    {
     "name": "stdout",
     "output_type": "stream",
     "text": [
      "CPU times: user 8.81 ms, sys: 0 ns, total: 8.81 ms\n",
      "Wall time: 285 ms\n"
     ]
    },
    {
     "data": {
      "text/plain": [
       "10"
      ]
     },
     "execution_count": 3,
     "metadata": {},
     "output_type": "execute_result"
    }
   ],
   "source": [
    "%time costly_simulation([1, 2, 3, 4])"
   ]
  },
  {
   "cell_type": "code",
   "execution_count": 4,
   "metadata": {},
   "outputs": [
    {
     "data": {
      "text/html": [
       "<div>\n",
       "<style scoped>\n",
       "    .dataframe tbody tr th:only-of-type {\n",
       "        vertical-align: middle;\n",
       "    }\n",
       "\n",
       "    .dataframe tbody tr th {\n",
       "        vertical-align: top;\n",
       "    }\n",
       "\n",
       "    .dataframe thead th {\n",
       "        text-align: right;\n",
       "    }\n",
       "</style>\n",
       "<table border=\"1\" class=\"dataframe\">\n",
       "  <thead>\n",
       "    <tr style=\"text-align: right;\">\n",
       "      <th></th>\n",
       "      <th>param_a</th>\n",
       "      <th>param_b</th>\n",
       "      <th>param_c</th>\n",
       "      <th>param_d</th>\n",
       "    </tr>\n",
       "  </thead>\n",
       "  <tbody>\n",
       "    <tr>\n",
       "      <th>0</th>\n",
       "      <td>0.538072</td>\n",
       "      <td>0.568526</td>\n",
       "      <td>0.670063</td>\n",
       "      <td>0.573377</td>\n",
       "    </tr>\n",
       "    <tr>\n",
       "      <th>1</th>\n",
       "      <td>0.051977</td>\n",
       "      <td>0.666182</td>\n",
       "      <td>0.091653</td>\n",
       "      <td>0.851108</td>\n",
       "    </tr>\n",
       "    <tr>\n",
       "      <th>2</th>\n",
       "      <td>0.268011</td>\n",
       "      <td>0.061663</td>\n",
       "      <td>0.946579</td>\n",
       "      <td>0.155039</td>\n",
       "    </tr>\n",
       "    <tr>\n",
       "      <th>3</th>\n",
       "      <td>0.152447</td>\n",
       "      <td>0.564689</td>\n",
       "      <td>0.787004</td>\n",
       "      <td>0.136737</td>\n",
       "    </tr>\n",
       "    <tr>\n",
       "      <th>4</th>\n",
       "      <td>0.161339</td>\n",
       "      <td>0.576635</td>\n",
       "      <td>0.485337</td>\n",
       "      <td>0.744110</td>\n",
       "    </tr>\n",
       "  </tbody>\n",
       "</table>\n",
       "</div>"
      ],
      "text/plain": [
       "    param_a   param_b   param_c   param_d\n",
       "0  0.538072  0.568526  0.670063  0.573377\n",
       "1  0.051977  0.666182  0.091653  0.851108\n",
       "2  0.268011  0.061663  0.946579  0.155039\n",
       "3  0.152447  0.564689  0.787004  0.136737\n",
       "4  0.161339  0.576635  0.485337  0.744110"
      ]
     },
     "execution_count": 4,
     "metadata": {},
     "output_type": "execute_result"
    }
   ],
   "source": [
    "import pandas as pd\n",
    "import numpy as np\n",
    "\n",
    "input_params = pd.DataFrame(np.random.random(size=(500, 4)),\n",
    "                            columns=['param_a', 'param_b', 'param_c', 'param_d'])\n",
    "input_params.head()"
   ]
  },
  {
   "cell_type": "code",
   "execution_count": 5,
   "metadata": {},
   "outputs": [],
   "source": [
    "results = []"
   ]
  },
  {
   "cell_type": "code",
   "execution_count": 6,
   "metadata": {},
   "outputs": [
    {
     "name": "stdout",
     "output_type": "stream",
     "text": [
      "CPU times: user 127 ms, sys: 21.7 ms, total: 149 ms\n",
      "Wall time: 5.42 s\n"
     ]
    }
   ],
   "source": [
    "%%time\n",
    "for parameters in input_params.values[:10]:\n",
    "    result = costly_simulation(parameters)\n",
    "    results.append(result)"
   ]
  },
  {
   "cell_type": "code",
   "execution_count": 7,
   "metadata": {},
   "outputs": [
    {
     "data": {
      "text/plain": [
       "[2.3500387624175945,\n",
       " 1.6609192406609088,\n",
       " 1.4312916802132318,\n",
       " 1.6408775488406349,\n",
       " 1.9674208961487865,\n",
       " 1.8379310473587465,\n",
       " 1.7325438304601861,\n",
       " 1.629651763111184,\n",
       " 1.1595187924746564,\n",
       " 1.622432664988943]"
      ]
     },
     "execution_count": 7,
     "metadata": {},
     "output_type": "execute_result"
    }
   ],
   "source": [
    "results"
   ]
  },
  {
   "cell_type": "markdown",
   "metadata": {},
   "source": [
    "## ## Use Dask Delayed to make our function lazy"
   ]
  },
  {
   "cell_type": "code",
   "execution_count": 8,
   "metadata": {},
   "outputs": [],
   "source": [
    "import dask\n",
    "lazy_results = []"
   ]
  },
  {
   "cell_type": "code",
   "execution_count": 9,
   "metadata": {},
   "outputs": [
    {
     "name": "stdout",
     "output_type": "stream",
     "text": [
      "CPU times: user 3.11 ms, sys: 0 ns, total: 3.11 ms\n",
      "Wall time: 2.37 ms\n"
     ]
    }
   ],
   "source": [
    "%%time\n",
    "\n",
    "for parameters in input_params.values[:10]:\n",
    "    lazy_result = dask.delayed(costly_simulation)(parameters)\n",
    "    lazy_results.append(lazy_result)"
   ]
  },
  {
   "cell_type": "code",
   "execution_count": 10,
   "metadata": {},
   "outputs": [
    {
     "data": {
      "text/plain": [
       "Delayed('costly_simulation-fb683acc-d3ca-4d2a-b99d-45f32c90a0fa')"
      ]
     },
     "execution_count": 10,
     "metadata": {},
     "output_type": "execute_result"
    }
   ],
   "source": [
    "lazy_results[0]"
   ]
  },
  {
   "cell_type": "code",
   "execution_count": null,
   "metadata": {},
   "outputs": [],
   "source": [
    "%time dask.compute(*lazy_results)"
   ]
  },
  {
   "cell_type": "code",
   "execution_count": 11,
   "metadata": {},
   "outputs": [],
   "source": [
    "futures = dask.persist(*lazy_results)"
   ]
  },
  {
   "cell_type": "code",
   "execution_count": 12,
   "metadata": {},
   "outputs": [
    {
     "data": {
      "text/plain": [
       "(Delayed('costly_simulation-fb683acc-d3ca-4d2a-b99d-45f32c90a0fa'),\n",
       " Delayed('costly_simulation-7d8cd53e-3f68-494f-a761-399c199fc5cb'),\n",
       " Delayed('costly_simulation-4884078f-2cab-485e-855c-cd2cc0802a68'),\n",
       " Delayed('costly_simulation-ecadca49-0adc-499c-aff0-87f63ceaaec4'),\n",
       " Delayed('costly_simulation-84f08f05-7eff-4f01-80d5-64548dbd5a21'),\n",
       " Delayed('costly_simulation-449d3f6c-249f-447a-af1b-5787f6208583'),\n",
       " Delayed('costly_simulation-a6d73315-2dcd-4c69-a2fc-6e231dda75d2'),\n",
       " Delayed('costly_simulation-a6a657fe-77cc-4c30-8384-96c7f2454bc0'),\n",
       " Delayed('costly_simulation-e29972f9-0b82-4349-8337-dbf806384934'),\n",
       " Delayed('costly_simulation-4e7779a9-0bbb-46a0-b092-fdc79b51819f'))"
      ]
     },
     "execution_count": 12,
     "metadata": {},
     "output_type": "execute_result"
    }
   ],
   "source": [
    "futures"
   ]
  },
  {
   "cell_type": "code",
   "execution_count": 13,
   "metadata": {},
   "outputs": [
    {
     "name": "stdout",
     "output_type": "stream",
     "text": [
      "CPU times: user 5.44 ms, sys: 6.39 ms, total: 11.8 ms\n",
      "Wall time: 11.2 ms\n"
     ]
    }
   ],
   "source": [
    "%time results_dask = dask.compute(*futures)"
   ]
  },
  {
   "cell_type": "code",
   "execution_count": 14,
   "metadata": {},
   "outputs": [
    {
     "data": {
      "text/plain": [
       "(2.3500387624175945,\n",
       " 1.6609192406609088,\n",
       " 1.4312916802132318,\n",
       " 1.6408775488406349,\n",
       " 1.9674208961487865,\n",
       " 1.8379310473587465,\n",
       " 1.7325438304601861,\n",
       " 1.629651763111184,\n",
       " 1.1595187924746564,\n",
       " 1.622432664988943)"
      ]
     },
     "execution_count": 14,
     "metadata": {},
     "output_type": "execute_result"
    }
   ],
   "source": [
    "results_dask"
   ]
  },
  {
   "cell_type": "markdown",
   "metadata": {},
   "source": [
    "## ## Futures API "
   ]
  },
  {
   "cell_type": "code",
   "execution_count": 15,
   "metadata": {},
   "outputs": [],
   "source": [
    "futures_api = []\n",
    "for parameters in input_params.values[:10]:\n",
    "    future_api = client.submit(costly_simulation, parameters)\n",
    "    futures_api.append(future_api)"
   ]
  },
  {
   "cell_type": "code",
   "execution_count": 16,
   "metadata": {},
   "outputs": [
    {
     "data": {
      "text/plain": [
       "[<Future: finished, type: numpy.float64, key: costly_simulation-c447264f6021516d3cd2df32e72fc2af>,\n",
       " <Future: finished, type: numpy.float64, key: costly_simulation-dd697ca1e35862a017f1c9a5cb6e7adf>,\n",
       " <Future: finished, type: numpy.float64, key: costly_simulation-ea2d72180e7df9de41c6677c95870118>,\n",
       " <Future: finished, type: numpy.float64, key: costly_simulation-dd84f51b0ab705ee6f3d603c8226616d>,\n",
       " <Future: finished, type: numpy.float64, key: costly_simulation-03b1154ad6236e4edc00d51a1397980e>,\n",
       " <Future: finished, type: numpy.float64, key: costly_simulation-f78b55ebd6d573f68d9ecdfa473baeda>,\n",
       " <Future: finished, type: numpy.float64, key: costly_simulation-84ec3f098d7b03b7fe2f64818e4b845c>,\n",
       " <Future: finished, type: numpy.float64, key: costly_simulation-5b75bf21aef79988d2391a8704ece11d>,\n",
       " <Future: finished, type: numpy.float64, key: costly_simulation-34aaf87355adb779cc5dd13cb189860e>,\n",
       " <Future: finished, type: numpy.float64, key: costly_simulation-0c6fe31b3f02f29e94732995b11e03c4>]"
      ]
     },
     "execution_count": 16,
     "metadata": {},
     "output_type": "execute_result"
    }
   ],
   "source": [
    "futures_api"
   ]
  },
  {
   "cell_type": "code",
   "execution_count": 17,
   "metadata": {},
   "outputs": [
    {
     "data": {
      "text/plain": [
       "[2.3500387624175945,\n",
       " 1.6609192406609088,\n",
       " 1.4312916802132318,\n",
       " 1.6408775488406349,\n",
       " 1.9674208961487865]"
      ]
     },
     "execution_count": 17,
     "metadata": {},
     "output_type": "execute_result"
    }
   ],
   "source": [
    "results_api = client.gather(futures_api)\n",
    "results_api[:5]"
   ]
  },
  {
   "cell_type": "code",
   "execution_count": null,
   "metadata": {},
   "outputs": [],
   "source": []
  }
 ],
 "metadata": {
  "kernelspec": {
   "display_name": "Python 3",
   "language": "python",
   "name": "python3"
  },
  "language_info": {
   "codemirror_mode": {
    "name": "ipython",
    "version": 3
   },
   "file_extension": ".py",
   "mimetype": "text/x-python",
   "name": "python",
   "nbconvert_exporter": "python",
   "pygments_lexer": "ipython3",
   "version": "3.7.6"
  }
 },
 "nbformat": 4,
 "nbformat_minor": 4
}
